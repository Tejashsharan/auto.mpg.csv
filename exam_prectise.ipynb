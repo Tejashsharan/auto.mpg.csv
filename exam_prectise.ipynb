{
  "nbformat": 4,
  "nbformat_minor": 0,
  "metadata": {
    "colab": {
      "provenance": []
    },
    "kernelspec": {
      "name": "python3",
      "display_name": "Python 3"
    },
    "language_info": {
      "name": "python"
    }
  },
  "cells": [
    {
      "cell_type": "code",
      "execution_count": null,
      "metadata": {
        "id": "NP1SHPOUIozr"
      },
      "outputs": [],
      "source": [
        "import pandas as pd\n",
        "df = pd.read_csv('/content/auto-mpg.csv')\n",
        "df = df.drop(axis=1, columns=['car name', 'origin', 'model year'])"
      ]
    },
    {
      "cell_type": "code",
      "source": [
        "from sklearn.preprocessing import StandardScaler\n",
        "\n",
        "# Create a StandardScaler instance\n",
        "scaler = StandardScaler()\n",
        "\n",
        "# Select feature columns (X) and target column (y)\n",
        "X = df.iloc[:, 2:]  # Features, should be 2D\n",
        "y = df.iloc[:, 1]   # Target, usually 1D\n",
        "\n",
        "# Convert X and y to float if necessary\n",
        "X = X.astype(float)  # Ensure all feature columns are float\n",
        "y = y.astype(float)  # Ensure target column is float (if necessary)\n",
        "\n",
        "# Apply scaling to X\n",
        "X_scaled = scaler.fit_transform(X)\n",
        "\n",
        "y_scaled = scaler.fit_transform(y.values.reshape(-1, 1))\n"
      ],
      "metadata": {
        "id": "7HblH2_-REjY"
      },
      "execution_count": null,
      "outputs": []
    },
    {
      "cell_type": "code",
      "source": [
        "y.info()"
      ],
      "metadata": {
        "id": "cqE12boMoiba",
        "colab": {
          "base_uri": "https://localhost:8080/"
        },
        "outputId": "e1e1543c-f582-4c60-df08-681afeb9570e"
      },
      "execution_count": null,
      "outputs": [
        {
          "output_type": "stream",
          "name": "stdout",
          "text": [
            "<class 'pandas.core.series.Series'>\n",
            "RangeIndex: 398 entries, 0 to 397\n",
            "Series name: cylinders\n",
            "Non-Null Count  Dtype  \n",
            "--------------  -----  \n",
            "398 non-null    float64\n",
            "dtypes: float64(1)\n",
            "memory usage: 3.2 KB\n"
          ]
        }
      ]
    },
    {
      "cell_type": "code",
      "source": [
        "from sklearn.impute import SimpleImputer\n",
        "imputer = SimpleImputer(strategy='mean')\n",
        "\n",
        "\n",
        "X['horsepower'] = imputer.fit_transform(X['horsepower'].values.reshape(-1, 1))"
      ],
      "metadata": {
        "id": "f1G4th9HtWfO"
      },
      "execution_count": null,
      "outputs": []
    },
    {
      "cell_type": "code",
      "source": [
        "X.info()"
      ],
      "metadata": {
        "colab": {
          "base_uri": "https://localhost:8080/"
        },
        "id": "NKwS3a9cw1YL",
        "outputId": "0b4d906d-e4e1-4695-d3fd-4b5b8d7a8f0b"
      },
      "execution_count": null,
      "outputs": [
        {
          "output_type": "stream",
          "name": "stdout",
          "text": [
            "<class 'pandas.core.frame.DataFrame'>\n",
            "RangeIndex: 398 entries, 0 to 397\n",
            "Data columns (total 4 columns):\n",
            " #   Column        Non-Null Count  Dtype  \n",
            "---  ------        --------------  -----  \n",
            " 0   displacement  398 non-null    float64\n",
            " 1   horsepower    398 non-null    float64\n",
            " 2   weight        398 non-null    float64\n",
            " 3   acceleration  398 non-null    float64\n",
            "dtypes: float64(4)\n",
            "memory usage: 12.6 KB\n"
          ]
        }
      ]
    },
    {
      "cell_type": "code",
      "source": [
        "from sklearn.linear_model import LogisticRegression\n",
        "lr = LogisticRegression()"
      ],
      "metadata": {
        "id": "PkMRtaYrw3wV"
      },
      "execution_count": null,
      "outputs": []
    },
    {
      "cell_type": "code",
      "source": [
        "from sklearn.model_selection import train_test_split\n",
        "from sklearn.metrics import accuracy_score\n",
        "X_train,X_test, y_train, y_test = train_test_split(X, y, test_size=0.2, random_state = 123)\n",
        "lr.fit(X_train,y_train)\n",
        "y_pred = lr.predict(X_test)\n",
        "print(\"the accuracy score of the Logistic Regression model is: \", accuracy_score(y_pred, y_test)*100)"
      ],
      "metadata": {
        "colab": {
          "base_uri": "https://localhost:8080/"
        },
        "id": "N8ZZ5_zQy1La",
        "outputId": "2164a251-d849-4166-f767-429b4f46022d"
      },
      "execution_count": null,
      "outputs": [
        {
          "output_type": "stream",
          "name": "stdout",
          "text": [
            "the accuracy score of the Logistic Regression model is:  91.25\n"
          ]
        },
        {
          "output_type": "stream",
          "name": "stderr",
          "text": [
            "/usr/local/lib/python3.10/dist-packages/sklearn/linear_model/_logistic.py:469: ConvergenceWarning: lbfgs failed to converge (status=1):\n",
            "STOP: TOTAL NO. of ITERATIONS REACHED LIMIT.\n",
            "\n",
            "Increase the number of iterations (max_iter) or scale the data as shown in:\n",
            "    https://scikit-learn.org/stable/modules/preprocessing.html\n",
            "Please also refer to the documentation for alternative solver options:\n",
            "    https://scikit-learn.org/stable/modules/linear_model.html#logistic-regression\n",
            "  n_iter_i = _check_optimize_result(\n"
          ]
        }
      ]
    },
    {
      "cell_type": "code",
      "source": [
        "from sklearn.svm import SVC\n",
        "svm = SVC()\n",
        "svm.fit(X_train, y_train)\n",
        "y_pred = svm.predict(X_test)\n",
        "print(\"the accuracy in the case of the svm : in%\", accuracy_score(y_test, y_pred) * 100)"
      ],
      "metadata": {
        "id": "p2kn5AG80DfG",
        "colab": {
          "base_uri": "https://localhost:8080/"
        },
        "outputId": "d1ac6e38-f78f-49b4-b222-024c649e2e7c"
      },
      "execution_count": null,
      "outputs": [
        {
          "output_type": "stream",
          "name": "stdout",
          "text": [
            "the accuracy in the case of the svm : in% 83.75\n"
          ]
        }
      ]
    },
    {
      "cell_type": "code",
      "source": [
        "from sklearn.tree import DecisionTreeClassifier\n",
        "svm = DecisionTreeClassifier()\n",
        "svm.fit(X_train, y_train)\n",
        "y_pred = svm.predict(X_test)\n",
        "print(\"the accuracy in the case of the decision tree classifier is  : in%\", accuracy_score(y_test, y_pred) * 100)"
      ],
      "metadata": {
        "colab": {
          "base_uri": "https://localhost:8080/"
        },
        "id": "aaM9JWLOJlvf",
        "outputId": "f6c1f17e-b38e-4a8b-bd6c-86aa3e903ceb"
      },
      "execution_count": null,
      "outputs": [
        {
          "output_type": "stream",
          "name": "stdout",
          "text": [
            "the accuracy in the case of the decision tree classifier is  : in% 93.75\n"
          ]
        }
      ]
    },
    {
      "cell_type": "code",
      "source": [],
      "metadata": {
        "id": "buKQ1Rp7KSRM"
      },
      "execution_count": null,
      "outputs": []
    }
  ]
}